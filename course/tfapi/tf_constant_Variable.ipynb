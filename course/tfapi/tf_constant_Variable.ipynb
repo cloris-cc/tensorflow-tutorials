{
 "cells": [
  {
   "cell_type": "code",
   "execution_count": 12,
   "metadata": {
    "collapsed": true
   },
   "outputs": [],
   "source": [
    "import tensorflow as tf\n",
    "import numpy as np"
   ]
  },
  {
   "cell_type": "markdown",
   "source": [
    "#### 1. tf.constant"
   ],
   "metadata": {
    "collapsed": false,
    "pycharm": {
     "name": "#%% md\n"
    }
   }
  },
  {
   "cell_type": "code",
   "execution_count": 7,
   "outputs": [
    {
     "name": "stdout",
     "output_type": "stream",
     "text": [
      "tf.Tensor(\n",
      "[[1 2 3]\n",
      " [4 5 6]], shape=(2, 3), dtype=int32)\n",
      "tf.Tensor(\n",
      "[[2 3]\n",
      " [5 6]], shape=(2, 2), dtype=int32)\n",
      "tf.Tensor([2 5], shape=(2,), dtype=int32)\n"
     ]
    }
   ],
   "source": [
    "# index (区间为左闭右开)\n",
    "\n",
    "arr = tf.constant([[1, 2, 3], [4, 5, 6]])\n",
    "\n",
    "print(arr)\n",
    "print(arr[:, 1:])\n",
    "print(arr[..., 1])"
   ],
   "metadata": {
    "collapsed": false,
    "pycharm": {
     "name": "#%%\n"
    }
   }
  },
  {
   "cell_type": "code",
   "execution_count": 10,
   "outputs": [
    {
     "name": "stdout",
     "output_type": "stream",
     "text": [
      "tf.Tensor(\n",
      "[[11 12 13]\n",
      " [14 15 16]], shape=(2, 3), dtype=int32)\n",
      "tf.Tensor(\n",
      "[[ 1  4  9]\n",
      " [16 25 36]], shape=(2, 3), dtype=int32)\n",
      "tf.Tensor(\n",
      "[[14 32]\n",
      " [32 77]], shape=(2, 2), dtype=int32)\n"
     ]
    }
   ],
   "source": [
    "# ops\n",
    "\n",
    "print(arr + 10)\n",
    "print(tf.square(arr))\n",
    "# todo 转置矩阵\n",
    "print(arr @ tf.transpose(arr))"
   ],
   "metadata": {
    "collapsed": false,
    "pycharm": {
     "name": "#%%\n"
    }
   }
  },
  {
   "cell_type": "code",
   "execution_count": 18,
   "outputs": [
    {
     "name": "stdout",
     "output_type": "stream",
     "text": [
      "[[1 2 3]\n",
      " [4 5 6]]\n",
      "[[1 2 3]\n",
      " [4 5 6]]\n",
      "[[ 1  4  9]\n",
      " [16 25 36]]\n"
     ]
    }
   ],
   "source": [
    "# numpy conversion\n",
    "\n",
    "print(arr.numpy())\n",
    "arr_np = np.array([[1, 2, 3], [4, 5, 6]])\n",
    "print(arr_np)\n",
    "\n",
    "print(np.square(arr))"
   ],
   "metadata": {
    "collapsed": false,
    "pycharm": {
     "name": "#%%\n"
    }
   }
  },
  {
   "cell_type": "code",
   "execution_count": 22,
   "outputs": [
    {
     "name": "stdout",
     "output_type": "stream",
     "text": [
      "tf.Tensor(3.1415, shape=(), dtype=float32)\n",
      "3.1415\n",
      "()\n"
     ]
    }
   ],
   "source": [
    "# Scalars (0 维向量/常量)\n",
    "\n",
    "arr = tf.constant(3.1415)\n",
    "print(arr)\n",
    "print(arr.numpy())\n",
    "print(arr.shape)\n"
   ],
   "metadata": {
    "collapsed": false,
    "pycharm": {
     "name": "#%%\n"
    }
   }
  },
  {
   "cell_type": "code",
   "execution_count": 25,
   "outputs": [
    {
     "name": "stdout",
     "output_type": "stream",
     "text": [
      "tf.Tensor(b'hello', shape=(), dtype=string)\n",
      "tf.Tensor(5, shape=(), dtype=int32)\n",
      "tf.Tensor([104 101 108 108 111], shape=(5,), dtype=int32)\n"
     ]
    }
   ],
   "source": [
    "# string\n",
    "\n",
    "str = tf.constant(\"hello\")\n",
    "print(str)\n",
    "print(tf.strings.length(str))\n",
    "print(tf.strings.unicode_decode(str, 'UTF-8'))"
   ],
   "metadata": {
    "collapsed": false,
    "pycharm": {
     "name": "#%%\n"
    }
   }
  },
  {
   "cell_type": "code",
   "execution_count": 29,
   "outputs": [
    {
     "name": "stdout",
     "output_type": "stream",
     "text": [
      "tf.Tensor([b'milk' b'coffee' b'tea'], shape=(3,), dtype=string)\n",
      "tf.Tensor([4 6 3], shape=(3,), dtype=int32)\n",
      "<tf.RaggedTensor [[109, 105, 108, 107], [99, 111, 102, 102, 101, 101], [116, 101, 97]]>\n"
     ]
    }
   ],
   "source": [
    "# strings\n",
    "\n",
    "strs = tf.constant([\"milk\", \"coffee\", \"tea\"])\n",
    "print(strs)\n",
    "print(tf.strings.length(strs))\n",
    "print(tf.strings.unicode_decode(strs, 'UTF-8'))"
   ],
   "metadata": {
    "collapsed": false,
    "pycharm": {
     "name": "#%%\n"
    }
   }
  },
  {
   "cell_type": "code",
   "execution_count": 34,
   "outputs": [
    {
     "name": "stdout",
     "output_type": "stream",
     "text": [
      "tf.Tensor([21 22 23], shape=(3,), dtype=int32)\n",
      "<tf.RaggedTensor [[11, 12]]>\n"
     ]
    }
   ],
   "source": [
    "# ragged tensor (不规则的矩阵)\n",
    "\n",
    "r1 = tf.ragged.constant([[11, 12], [21, 22, 23], [], [41]])\n",
    "print(r1[1])\n",
    "print(r1[0:1])"
   ],
   "metadata": {
    "collapsed": false,
    "pycharm": {
     "name": "#%%\n"
    }
   }
  },
  {
   "cell_type": "code",
   "execution_count": 39,
   "outputs": [
    {
     "name": "stdout",
     "output_type": "stream",
     "text": [
      "<tf.RaggedTensor [[11, 12], [21, 22, 23], [], [41], [51, 52], [], [71]]>\n",
      "<tf.RaggedTensor [[51, 52, 13, 14], [2], [71, 0]]>\n",
      "tf.Tensor(\n",
      "[[13 14]\n",
      " [ 2  0]\n",
      " [ 0  0]], shape=(3, 2), dtype=int32)\n"
     ]
    }
   ],
   "source": [
    "# ops on ragged tensor\n",
    "\n",
    "r2 = tf.ragged.constant([[51, 52], [], [71]])\n",
    "# 直接拼接\n",
    "print(tf.concat([r1, r2], axis=0))\n",
    "\n",
    "r3 = tf.ragged.constant([[13, 14], [2], [0]])\n",
    "# 行内拼接\n",
    "print(tf.concat([r2, r3], axis=1))\n",
    "\n",
    "print(r3.to_tensor())"
   ],
   "metadata": {
    "collapsed": false,
    "pycharm": {
     "name": "#%%\n"
    }
   }
  },
  {
   "cell_type": "code",
   "execution_count": 42,
   "outputs": [
    {
     "name": "stdout",
     "output_type": "stream",
     "text": [
      "SparseTensor(indices=tf.Tensor(\n",
      "[[0 1]\n",
      " [1 0]\n",
      " [2 3]], shape=(3, 2), dtype=int64), values=tf.Tensor([6 7 8], shape=(3,), dtype=int32), dense_shape=tf.Tensor([3 4], shape=(2,), dtype=int64))\n",
      "tf.Tensor(\n",
      "[[0 6 0 0]\n",
      " [7 0 0 0]\n",
      " [0 0 0 8]], shape=(3, 4), dtype=int32)\n"
     ]
    }
   ],
   "source": [
    "# sparse tensor\n",
    "\n",
    "s = tf.SparseTensor(indices=[[0, 1], [1, 0], [2, 3]],\n",
    "                    values=[6, 7, 8],\n",
    "                    dense_shape=[3, 4])\n",
    "print(s)\n",
    "print(tf.sparse.to_dense(s))"
   ],
   "metadata": {
    "collapsed": false,
    "pycharm": {
     "name": "#%%\n"
    }
   }
  },
  {
   "cell_type": "markdown",
   "source": [
    "#### 2. tf.Variable"
   ],
   "metadata": {
    "collapsed": false,
    "pycharm": {
     "name": "#%% md\n"
    }
   }
  },
  {
   "cell_type": "code",
   "execution_count": 45,
   "outputs": [
    {
     "name": "stdout",
     "output_type": "stream",
     "text": [
      "<tf.Variable 'Variable:0' shape=(2, 3) dtype=int32, numpy=\n",
      "array([[1, 2, 3],\n",
      "       [4, 5, 6]], dtype=int32)>\n",
      "tf.Tensor(\n",
      "[[1 2 3]\n",
      " [4 5 6]], shape=(2, 3), dtype=int32)\n",
      "[[1 2 3]\n",
      " [4 5 6]]\n"
     ]
    }
   ],
   "source": [
    "v = tf.Variable([[1, 2, 3], [4, 5, 6]])\n",
    "print(v)\n",
    "print(v.value())\n",
    "print(v.numpy())"
   ],
   "metadata": {
    "collapsed": false,
    "pycharm": {
     "name": "#%%\n"
    }
   }
  },
  {
   "cell_type": "code",
   "execution_count": 49,
   "outputs": [
    {
     "name": "stdout",
     "output_type": "stream",
     "text": [
      "[[16 84 48]\n",
      " [14 16 18]]\n",
      "[[16 42 48]\n",
      " [14 16 18]]\n",
      "[[16 42 48]\n",
      " [ 0  0  1]]\n"
     ]
    }
   ],
   "source": [
    "# assign value\n",
    "\n",
    "v.assign(2 * v)\n",
    "print(v.numpy())\n",
    "v[0, 1].assign(42)\n",
    "print(v.numpy())\n",
    "v[1].assign([0, 0, 1])\n",
    "print(v.numpy())"
   ],
   "metadata": {
    "collapsed": false,
    "pycharm": {
     "name": "#%%\n"
    }
   }
  },
  {
   "cell_type": "code",
   "execution_count": null,
   "outputs": [],
   "source": [],
   "metadata": {
    "collapsed": false,
    "pycharm": {
     "name": "#%%\n"
    }
   }
  },
  {
   "cell_type": "code",
   "execution_count": null,
   "outputs": [],
   "source": [],
   "metadata": {
    "collapsed": false,
    "pycharm": {
     "name": "#%%\n"
    }
   }
  },
  {
   "cell_type": "code",
   "execution_count": null,
   "outputs": [],
   "source": [],
   "metadata": {
    "collapsed": false,
    "pycharm": {
     "name": "#%%\n"
    }
   }
  },
  {
   "cell_type": "code",
   "execution_count": null,
   "outputs": [],
   "source": [],
   "metadata": {
    "collapsed": false,
    "pycharm": {
     "name": "#%%\n"
    }
   }
  },
  {
   "cell_type": "code",
   "execution_count": null,
   "outputs": [],
   "source": [],
   "metadata": {
    "collapsed": false,
    "pycharm": {
     "name": "#%%\n"
    }
   }
  },
  {
   "cell_type": "code",
   "execution_count": null,
   "outputs": [],
   "source": [],
   "metadata": {
    "collapsed": false,
    "pycharm": {
     "name": "#%%\n"
    }
   }
  },
  {
   "cell_type": "code",
   "execution_count": null,
   "outputs": [],
   "source": [],
   "metadata": {
    "collapsed": false,
    "pycharm": {
     "name": "#%%\n"
    }
   }
  },
  {
   "cell_type": "code",
   "execution_count": null,
   "outputs": [],
   "source": [],
   "metadata": {
    "collapsed": false,
    "pycharm": {
     "name": "#%%\n"
    }
   }
  }
 ],
 "metadata": {
  "kernelspec": {
   "display_name": "Python 3",
   "language": "python",
   "name": "python3"
  },
  "language_info": {
   "codemirror_mode": {
    "name": "ipython",
    "version": 2
   },
   "file_extension": ".py",
   "mimetype": "text/x-python",
   "name": "python",
   "nbconvert_exporter": "python",
   "pygments_lexer": "ipython2",
   "version": "2.7.6"
  }
 },
 "nbformat": 4,
 "nbformat_minor": 0
}